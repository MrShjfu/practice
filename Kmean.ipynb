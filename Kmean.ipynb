{
 "cells": [
  {
   "cell_type": "code",
   "execution_count": 109,
   "metadata": {
    "collapsed": true
   },
   "outputs": [],
   "source": [
    "from sklearn.datasets import make_blobs\n",
    "import matplotlib.pyplot as plt\n",
    "from sklearn.cluster import KMeans"
   ]
  },
  {
   "cell_type": "markdown",
   "metadata": {},
   "source": [
    "### Create cluster to test\n"
   ]
  },
  {
   "cell_type": "code",
   "execution_count": 98,
   "metadata": {
    "collapsed": true
   },
   "outputs": [],
   "source": [
    "X,Y = make_blobs(n_samples=100, n_features=2, centers=2, cluster_std=1.0, center_box=(-10.0, 10.0), shuffle=True, random_state=None)"
   ]
  },
  {
   "cell_type": "code",
   "execution_count": 99,
   "metadata": {},
   "outputs": [
    {
     "data": {
      "text/plain": [
       "array([0, 1, 1, 0, 0, 0, 1, 0, 1, 0, 1, 0, 1, 0, 0, 0, 1, 0, 1, 1, 1, 0, 0,\n",
       "       0, 0, 1, 0, 1, 1, 1, 0, 0, 0, 1, 1, 0, 1, 0, 1, 0, 1, 1, 0, 0, 0, 0,\n",
       "       1, 1, 0, 1, 1, 1, 0, 0, 0, 0, 1, 0, 1, 0, 1, 1, 1, 0, 0, 1, 1, 1, 1,\n",
       "       0, 1, 1, 1, 1, 0, 1, 0, 1, 1, 1, 0, 1, 0, 0, 1, 0, 1, 1, 1, 0, 0, 0,\n",
       "       0, 1, 1, 1, 0, 0, 0, 0])"
      ]
     },
     "execution_count": 99,
     "metadata": {},
     "output_type": "execute_result"
    }
   ],
   "source": [
    "Y"
   ]
  },
  {
   "cell_type": "code",
   "execution_count": 100,
   "metadata": {
    "collapsed": true
   },
   "outputs": [
    {
     "data": {
      "text/plain": [
       "array([[ -6.10791619e+00,  -5.50461404e+00],\n",
       "       [ -8.71373803e+00,   9.64112908e-02],\n",
       "       [ -9.41098048e+00,  -8.49622987e-01],\n",
       "       [ -7.23349155e+00,  -5.16523750e+00],\n",
       "       [ -6.01478499e+00,  -4.01042267e+00],\n",
       "       [ -4.84007946e+00,  -5.07263529e+00],\n",
       "       [ -9.14712374e+00,   1.38239053e+00],\n",
       "       [ -5.10971782e+00,  -5.92224432e+00],\n",
       "       [ -9.52850035e+00,   2.15109278e+00],\n",
       "       [ -5.96548458e+00,  -4.94641909e+00],\n",
       "       [ -9.74430877e+00,   2.84130484e+00],\n",
       "       [ -6.23024324e+00,  -6.39386683e+00],\n",
       "       [ -1.08835116e+01,   1.13000710e+00],\n",
       "       [ -6.12111591e+00,  -6.67775946e+00],\n",
       "       [ -5.70846953e+00,  -7.95323242e+00],\n",
       "       [ -5.99585318e+00,  -3.53916265e+00],\n",
       "       [ -9.49759693e+00,   6.82699737e-01],\n",
       "       [ -6.35080468e+00,  -6.52104160e+00],\n",
       "       [ -9.50288046e+00,   1.45276994e+00],\n",
       "       [ -1.02169095e+01,   1.57089790e+00],\n",
       "       [ -8.29041046e+00,  -7.54266776e-01],\n",
       "       [ -5.56479463e+00,  -6.34672703e+00],\n",
       "       [ -5.18479684e+00,  -6.28516827e+00],\n",
       "       [ -5.97148809e+00,  -6.42243532e+00],\n",
       "       [ -5.35616655e+00,  -7.57363849e+00],\n",
       "       [ -9.98941906e+00,   1.98028726e+00],\n",
       "       [ -3.68529706e+00,  -5.22516011e+00],\n",
       "       [ -8.01138739e+00,   1.85469000e-01],\n",
       "       [ -6.57614236e+00,   2.51156040e-01],\n",
       "       [ -1.05618256e+01,   3.40481086e-01],\n",
       "       [ -3.96156721e+00,  -5.82979055e+00],\n",
       "       [ -4.86894873e+00,  -5.54640943e+00],\n",
       "       [ -4.20744676e+00,  -7.69157596e+00],\n",
       "       [ -8.96565396e+00,   2.09366693e+00],\n",
       "       [ -9.31031709e+00,   1.53643890e+00],\n",
       "       [ -6.50267181e+00,  -5.43398451e+00],\n",
       "       [ -8.49575900e+00,   2.07619879e+00],\n",
       "       [ -6.06885737e+00,  -5.50650680e+00],\n",
       "       [ -9.91165616e+00,   1.94767728e+00],\n",
       "       [ -3.82143828e+00,  -5.62396498e+00],\n",
       "       [ -8.96568946e+00,  -2.00780703e+00],\n",
       "       [ -9.64184279e+00,   1.37606656e+00],\n",
       "       [ -6.74274960e+00,  -5.74948198e+00],\n",
       "       [ -7.19263828e+00,  -6.95982780e+00],\n",
       "       [ -5.40338570e+00,  -7.14083819e+00],\n",
       "       [ -5.68352024e+00,  -5.10929691e+00],\n",
       "       [ -7.76558457e+00,   1.04020152e-01],\n",
       "       [ -9.51598258e+00,   1.01431733e+00],\n",
       "       [ -5.83332776e+00,  -5.13835705e+00],\n",
       "       [ -9.58767836e+00,   1.55352880e+00],\n",
       "       [ -8.23914091e+00,   1.65484320e+00],\n",
       "       [ -1.01715156e+01,   8.90868511e-01],\n",
       "       [ -5.72751100e+00,  -5.52036945e+00],\n",
       "       [ -5.51158286e+00,  -7.66681291e+00],\n",
       "       [ -5.95465460e+00,  -6.29981211e+00],\n",
       "       [ -7.23564965e+00,  -7.25512932e+00],\n",
       "       [ -8.05697076e+00,   2.51712881e+00],\n",
       "       [ -4.56225410e+00,  -4.99612514e+00],\n",
       "       [ -7.69357750e+00,  -4.69695973e-01],\n",
       "       [ -4.51200782e+00,  -4.42120076e+00],\n",
       "       [ -9.06003910e+00,   8.67276359e-01],\n",
       "       [ -9.33806034e+00,   3.18492283e+00],\n",
       "       [ -8.66502705e+00,   1.49949420e+00],\n",
       "       [ -5.77714544e+00,  -4.48301554e+00],\n",
       "       [ -6.44634511e+00,  -6.95046536e+00],\n",
       "       [ -1.02271965e+01,   5.47726977e-01],\n",
       "       [ -7.18232967e+00,   1.23873369e+00],\n",
       "       [ -9.29084608e+00,   1.05939892e+00],\n",
       "       [ -9.07904193e+00,   4.43714443e-01],\n",
       "       [ -5.57293702e+00,  -6.29648994e+00],\n",
       "       [ -8.86821452e+00,   1.56171510e+00],\n",
       "       [ -8.42359686e+00,   2.69719441e-01],\n",
       "       [ -9.26502943e+00,   6.14694611e-02],\n",
       "       [ -1.05395348e+01,   1.57630054e+00],\n",
       "       [ -5.04067545e+00,  -6.72887318e+00],\n",
       "       [ -7.89644943e+00,  -4.20358272e-02],\n",
       "       [ -5.24128138e+00,  -3.76863756e+00],\n",
       "       [ -1.01083199e+01,   4.67186079e-01],\n",
       "       [ -9.68781050e+00,   1.23240220e+00],\n",
       "       [ -9.42690319e+00,  -6.91405716e-03],\n",
       "       [ -5.01275031e+00,  -6.63153474e+00],\n",
       "       [ -9.57976513e+00,  -1.64063884e+00],\n",
       "       [ -6.31459760e+00,  -5.56682869e+00],\n",
       "       [ -6.90821617e+00,  -3.35843452e+00],\n",
       "       [ -9.33200013e+00,   4.57989077e-01],\n",
       "       [ -7.03252348e+00,  -5.87221180e+00],\n",
       "       [ -9.53942982e+00,   2.92498914e+00],\n",
       "       [ -9.46177529e+00,   3.09886022e-01],\n",
       "       [ -1.04535472e+01,  -1.73294384e+00],\n",
       "       [ -6.23385966e+00,  -5.68422706e+00],\n",
       "       [ -3.49735128e+00,  -5.05071221e+00],\n",
       "       [ -5.65995308e+00,  -6.14005336e+00],\n",
       "       [ -5.45926599e+00,  -5.71639855e+00],\n",
       "       [ -8.07885053e+00,   1.52623664e+00],\n",
       "       [ -8.55527045e+00,   6.55001854e-01],\n",
       "       [ -8.26698550e+00,   5.52006997e-01],\n",
       "       [ -4.59610534e+00,  -5.47876772e+00],\n",
       "       [ -5.13532138e+00,  -5.59689738e+00],\n",
       "       [ -4.54093329e+00,  -4.32197674e+00],\n",
       "       [ -4.17368256e+00,  -6.36951321e+00]])"
      ]
     },
     "execution_count": 100,
     "metadata": {},
     "output_type": "execute_result"
    }
   ],
   "source": [
    "X"
   ]
  },
  {
   "cell_type": "code",
   "execution_count": 116,
   "metadata": {},
   "outputs": [
    {
     "data": {
      "image/png": "[encoded data removed]",
      "text/plain": [
       "<matplotlib.figure.Figure at 0x2dda9ac0358>"
      ]
     },
     "metadata": {},
     "output_type": "display_data"
    },
    {
     "data": {
      "text/plain": [
       "<matplotlib.collections.PathCollection at 0x2dda9d1c7b8>"
      ]
     },
     "execution_count": 116,
     "metadata": {},
     "output_type": "execute_result"
    }
   ],
   "source": [
    "plt.grid()\n",
    "plt.show()\n",
    "\n",
    "plt.scatter(X[Y==0,0], X[Y ==0,1], s=100, c='lightgreen', marker='s', label='cluster 1')\n",
    "plt.scatter(X[Y==1,0], X[Y ==1,1], s=100, c='orange', marker='v', label='cluster 2')\n"
   ]
  },
  {
   "cell_type": "markdown",
   "metadata": {},
   "source": [
    "Create Kmeans with sklearn with "
   ]
  },
  {
   "cell_type": "code",
   "execution_count": 110,
   "metadata": {
    "collapsed": true
   },
   "outputs": [],
   "source": [
    "km = KMeans(n_clusters=2,init='random',n_init=100,max_iter=200,tol=1e-04,random_state=0)\n",
    "# max_iter : so lan lap lai thuat toan kmean cho lan chay duy nhat\n",
    "y_km=km.fit_predict(X)"
   ]
  },
  {
   "cell_type": "code",
   "execution_count": 111,
   "metadata": {},
   "outputs": [
    {
     "data": {
      "text/plain": [
       "array([0, 1, 1, 0, 0, 0, 1, 0, 1, 0, 1, 0, 1, 0, 0, 0, 1, 0, 1, 1, 1, 0, 0,\n",
       "       0, 0, 1, 0, 1, 1, 1, 0, 0, 0, 1, 1, 0, 1, 0, 1, 0, 1, 1, 0, 0, 0, 0,\n",
       "       1, 1, 0, 1, 1, 1, 0, 0, 0, 0, 1, 0, 1, 0, 1, 1, 1, 0, 0, 1, 1, 1, 1,\n",
       "       0, 1, 1, 1, 1, 0, 1, 0, 1, 1, 1, 0, 1, 0, 0, 1, 0, 1, 1, 1, 0, 0, 0,\n",
       "       0, 1, 1, 1, 0, 0, 0, 0])"
      ]
     },
     "execution_count": 111,
     "metadata": {},
     "output_type": "execute_result"
    }
   ],
   "source": [
    "y_km\n"
   ]
  },
  {
   "cell_type": "code",
   "execution_count": 112,
   "metadata": {
    "collapsed": true
   },
   "outputs": [
    {
     "data": {
      "text/plain": [
       "array([[ -6.10791619e+00,  -5.50461404e+00],\n",
       "       [ -8.71373803e+00,   9.64112908e-02],\n",
       "       [ -9.41098048e+00,  -8.49622987e-01],\n",
       "       [ -7.23349155e+00,  -5.16523750e+00],\n",
       "       [ -6.01478499e+00,  -4.01042267e+00],\n",
       "       [ -4.84007946e+00,  -5.07263529e+00],\n",
       "       [ -9.14712374e+00,   1.38239053e+00],\n",
       "       [ -5.10971782e+00,  -5.92224432e+00],\n",
       "       [ -9.52850035e+00,   2.15109278e+00],\n",
       "       [ -5.96548458e+00,  -4.94641909e+00],\n",
       "       [ -9.74430877e+00,   2.84130484e+00],\n",
       "       [ -6.23024324e+00,  -6.39386683e+00],\n",
       "       [ -1.08835116e+01,   1.13000710e+00],\n",
       "       [ -6.12111591e+00,  -6.67775946e+00],\n",
       "       [ -5.70846953e+00,  -7.95323242e+00],\n",
       "       [ -5.99585318e+00,  -3.53916265e+00],\n",
       "       [ -9.49759693e+00,   6.82699737e-01],\n",
       "       [ -6.35080468e+00,  -6.52104160e+00],\n",
       "       [ -9.50288046e+00,   1.45276994e+00],\n",
       "       [ -1.02169095e+01,   1.57089790e+00],\n",
       "       [ -8.29041046e+00,  -7.54266776e-01],\n",
       "       [ -5.56479463e+00,  -6.34672703e+00],\n",
       "       [ -5.18479684e+00,  -6.28516827e+00],\n",
       "       [ -5.97148809e+00,  -6.42243532e+00],\n",
       "       [ -5.35616655e+00,  -7.57363849e+00],\n",
       "       [ -9.98941906e+00,   1.98028726e+00],\n",
       "       [ -3.68529706e+00,  -5.22516011e+00],\n",
       "       [ -8.01138739e+00,   1.85469000e-01],\n",
       "       [ -6.57614236e+00,   2.51156040e-01],\n",
       "       [ -1.05618256e+01,   3.40481086e-01],\n",
       "       [ -3.96156721e+00,  -5.82979055e+00],\n",
       "       [ -4.86894873e+00,  -5.54640943e+00],\n",
       "       [ -4.20744676e+00,  -7.69157596e+00],\n",
       "       [ -8.96565396e+00,   2.09366693e+00],\n",
       "       [ -9.31031709e+00,   1.53643890e+00],\n",
       "       [ -6.50267181e+00,  -5.43398451e+00],\n",
       "       [ -8.49575900e+00,   2.07619879e+00],\n",
       "       [ -6.06885737e+00,  -5.50650680e+00],\n",
       "       [ -9.91165616e+00,   1.94767728e+00],\n",
       "       [ -3.82143828e+00,  -5.62396498e+00],\n",
       "       [ -8.96568946e+00,  -2.00780703e+00],\n",
       "       [ -9.64184279e+00,   1.37606656e+00],\n",
       "       [ -6.74274960e+00,  -5.74948198e+00],\n",
       "       [ -7.19263828e+00,  -6.95982780e+00],\n",
       "       [ -5.40338570e+00,  -7.14083819e+00],\n",
       "       [ -5.68352024e+00,  -5.10929691e+00],\n",
       "       [ -7.76558457e+00,   1.04020152e-01],\n",
       "       [ -9.51598258e+00,   1.01431733e+00],\n",
       "       [ -5.83332776e+00,  -5.13835705e+00],\n",
       "       [ -9.58767836e+00,   1.55352880e+00],\n",
       "       [ -8.23914091e+00,   1.65484320e+00],\n",
       "       [ -1.01715156e+01,   8.90868511e-01],\n",
       "       [ -5.72751100e+00,  -5.52036945e+00],\n",
       "       [ -5.51158286e+00,  -7.66681291e+00],\n",
       "       [ -5.95465460e+00,  -6.29981211e+00],\n",
       "       [ -7.23564965e+00,  -7.25512932e+00],\n",
       "       [ -8.05697076e+00,   2.51712881e+00],\n",
       "       [ -4.56225410e+00,  -4.99612514e+00],\n",
       "       [ -7.69357750e+00,  -4.69695973e-01],\n",
       "       [ -4.51200782e+00,  -4.42120076e+00],\n",
       "       [ -9.06003910e+00,   8.67276359e-01],\n",
       "       [ -9.33806034e+00,   3.18492283e+00],\n",
       "       [ -8.66502705e+00,   1.49949420e+00],\n",
       "       [ -5.77714544e+00,  -4.48301554e+00],\n",
       "       [ -6.44634511e+00,  -6.95046536e+00],\n",
       "       [ -1.02271965e+01,   5.47726977e-01],\n",
       "       [ -7.18232967e+00,   1.23873369e+00],\n",
       "       [ -9.29084608e+00,   1.05939892e+00],\n",
       "       [ -9.07904193e+00,   4.43714443e-01],\n",
       "       [ -5.57293702e+00,  -6.29648994e+00],\n",
       "       [ -8.86821452e+00,   1.56171510e+00],\n",
       "       [ -8.42359686e+00,   2.69719441e-01],\n",
       "       [ -9.26502943e+00,   6.14694611e-02],\n",
       "       [ -1.05395348e+01,   1.57630054e+00],\n",
       "       [ -5.04067545e+00,  -6.72887318e+00],\n",
       "       [ -7.89644943e+00,  -4.20358272e-02],\n",
       "       [ -5.24128138e+00,  -3.76863756e+00],\n",
       "       [ -1.01083199e+01,   4.67186079e-01],\n",
       "       [ -9.68781050e+00,   1.23240220e+00],\n",
       "       [ -9.42690319e+00,  -6.91405716e-03],\n",
       "       [ -5.01275031e+00,  -6.63153474e+00],\n",
       "       [ -9.57976513e+00,  -1.64063884e+00],\n",
       "       [ -6.31459760e+00,  -5.56682869e+00],\n",
       "       [ -6.90821617e+00,  -3.35843452e+00],\n",
       "       [ -9.33200013e+00,   4.57989077e-01],\n",
       "       [ -7.03252348e+00,  -5.87221180e+00],\n",
       "       [ -9.53942982e+00,   2.92498914e+00],\n",
       "       [ -9.46177529e+00,   3.09886022e-01],\n",
       "       [ -1.04535472e+01,  -1.73294384e+00],\n",
       "       [ -6.23385966e+00,  -5.68422706e+00],\n",
       "       [ -3.49735128e+00,  -5.05071221e+00],\n",
       "       [ -5.65995308e+00,  -6.14005336e+00],\n",
       "       [ -5.45926599e+00,  -5.71639855e+00],\n",
       "       [ -8.07885053e+00,   1.52623664e+00],\n",
       "       [ -8.55527045e+00,   6.55001854e-01],\n",
       "       [ -8.26698550e+00,   5.52006997e-01],\n",
       "       [ -4.59610534e+00,  -5.47876772e+00],\n",
       "       [ -5.13532138e+00,  -5.59689738e+00],\n",
       "       [ -4.54093329e+00,  -4.32197674e+00],\n",
       "       [ -4.17368256e+00,  -6.36951321e+00]])"
      ]
     },
     "execution_count": 112,
     "metadata": {},
     "output_type": "execute_result"
    }
   ],
   "source": [
    "X"
   ]
  },
  {
   "cell_type": "code",
   "execution_count": 113,
   "metadata": {},
   "outputs": [
    {
     "data": {
      "text/plain": [
       "array([0, 1, 1, 0, 0, 0, 1, 0, 1, 0, 1, 0, 1, 0, 0, 0, 1, 0, 1, 1, 1, 0, 0,\n",
       "       0, 0, 1, 0, 1, 1, 1, 0, 0, 0, 1, 1, 0, 1, 0, 1, 0, 1, 1, 0, 0, 0, 0,\n",
       "       1, 1, 0, 1, 1, 1, 0, 0, 0, 0, 1, 0, 1, 0, 1, 1, 1, 0, 0, 1, 1, 1, 1,\n",
       "       0, 1, 1, 1, 1, 0, 1, 0, 1, 1, 1, 0, 1, 0, 0, 1, 0, 1, 1, 1, 0, 0, 0,\n",
       "       0, 1, 1, 1, 0, 0, 0, 0])"
      ]
     },
     "execution_count": 113,
     "metadata": {},
     "output_type": "execute_result"
    }
   ],
   "source": [
    "Y"
   ]
  },
  {
   "cell_type": "code",
   "execution_count": 114,
   "metadata": {},
   "outputs": [
    {
     "name": "stdout",
     "output_type": "stream",
     "text": [
      "Accurary:  1.000000\n"
     ]
    }
   ],
   "source": [
    "from sklearn import metrics\n",
    "print(\"Accurary: {0: 4f}\".format(metrics.accuracy_score(y_km,Y)))"
   ]
  },
  {
   "cell_type": "markdown",
   "metadata": {},
   "source": [
    "# Evaluation"
   ]
  },
  {
   "cell_type": "code",
   "execution_count": 115,
   "metadata": {},
   "outputs": [
    {
     "data": {
      "image/png": "[encoded data removed]",
      "text/plain": [
       "<matplotlib.figure.Figure at 0x2dda9b44128>"
      ]
     },
     "metadata": {},
     "output_type": "display_data"
    },
    {
     "data": {
      "text/plain": [
       "<matplotlib.collections.PathCollection at 0x2dda9c73898>"
      ]
     },
     "execution_count": 115,
     "metadata": {},
     "output_type": "execute_result"
    }
   ],
   "source": [
    "plt.grid()\n",
    "plt.show()\n",
    "\n",
    "plt.scatter(X[y_km==0,0], X[y_km ==0,1], s=100, c='lightgreen', marker='s', label='cluster 1')\n",
    "plt.scatter(X[y_km==1,0], X[y_km ==1,1], s=100, c='orange', marker='v', label='cluster 2')"
   ]
  },
  {
   "cell_type": "markdown",
   "metadata": {},
   "source": [
    "### Recall and Precision"
   ]
  },
  {
   "cell_type": "code",
   "execution_count": 117,
   "metadata": {},
   "outputs": [
    {
     "name": "stdout",
     "output_type": "stream",
     "text": [
      "Classification Report\n",
      "             precision    recall  f1-score   support\n",
      "\n",
      "          0       1.00      1.00      1.00        50\n",
      "          1       1.00      1.00      1.00        50\n",
      "          2       0.00      0.00      0.00         0\n",
      "\n",
      "avg / total       1.00      1.00      1.00       100\n",
      "\n"
     ]
    },
    {
     "name": "stderr",
     "output_type": "stream",
     "text": [
      "C:\\Users\\Lenovo\\Anaconda3\\lib\\site-packages\\sklearn\\metrics\\classification.py:1113: UndefinedMetricWarning: Precision and F-score are ill-defined and being set to 0.0 in labels with no predicted samples.\n",
      "  'precision', 'predicted', average, warn_for)\n",
      "C:\\Users\\Lenovo\\Anaconda3\\lib\\site-packages\\sklearn\\metrics\\classification.py:1115: UndefinedMetricWarning: Recall and F-score are ill-defined and being set to 0.0 in labels with no true samples.\n",
      "  'recall', 'true', average, warn_for)\n"
     ]
    }
   ],
   "source": [
    "print(\"Classification Report\")\n",
    "print(metrics.classification_report(Y,y_km, labels=[0,1,2]))"
   ]
  },
  {
   "cell_type": "code",
   "execution_count": null,
   "metadata": {
    "collapsed": true
   },
   "outputs": [],
   "source": []
  }
 ],
 "metadata": {
  "kernelspec": {
   "display_name": "Python 3",
   "language": "python",
   "name": "python3"
  },
  "language_info": {
   "codemirror_mode": {
    "name": "ipython",
    "version": 3
   },
   "file_extension": ".py",
   "mimetype": "text/x-python",
   "name": "python",
   "nbconvert_exporter": "python",
   "pygments_lexer": "ipython3",
   "version": "3.6.1"
  }
 },
 "nbformat": 4,
 "nbformat_minor": 1
}
